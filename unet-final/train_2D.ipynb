{
 "cells": [
  {
   "cell_type": "code",
   "execution_count": 1,
   "metadata": {},
   "outputs": [
    {
     "name": "stderr",
     "output_type": "stream",
     "text": [
      "Using TensorFlow backend.\n"
     ]
    }
   ],
   "source": [
    "from model2D import *\n",
    "from data import *\n",
    "import numpy as np \n",
    "from keras.models import Sequential\n",
    "from keras.layers import Dense\n",
    "import matplotlib.pyplot as plt\n",
    "import numpy\n",
    "from sklearn.model_selection import train_test_split\n",
    "from keras.callbacks import EarlyStopping\n",
    "from keras.utils import np_utils"
   ]
  },
  {
   "cell_type": "markdown",
   "metadata": {},
   "source": [
    "## Train 2D UNet\n",
    "Data is in folder /data\n",
    "\n",
    "The input shape of image: (batch_size,rows,cols,channel = 1) (256x256x1)\n",
    "\n",
    "The input shape of mask: (batch_size,rows,cols,channel = 3) (256x256x3)"
   ]
  },
  {
   "cell_type": "markdown",
   "metadata": {},
   "source": [
    "### Train 2D With Early Stopping"
   ]
  },
  {
   "cell_type": "code",
   "execution_count": 2,
   "metadata": {
    "scrolled": true
   },
   "outputs": [
    {
     "name": "stderr",
     "output_type": "stream",
     "text": [
      "/home/ubuntu/unet-aws/model2D.py:125: UserWarning: Update your `Model` call to the Keras 2 API: `Model(inputs=Tensor(\"in..., outputs=Tensor(\"co...)`\n",
      "  model = Model(input = inputs, output = outputs)\n"
     ]
    },
    {
     "name": "stdout",
     "output_type": "stream",
     "text": [
      "__________________________________________________________________________________________________\n",
      "Layer (type)                    Output Shape         Param #     Connected to                     \n",
      "==================================================================================================\n",
      "input_1 (InputLayer)            (None, 256, 256, 1)  0                                            \n",
      "__________________________________________________________________________________________________\n",
      "conv2d_1 (Conv2D)               (None, 256, 256, 64) 640         input_1[0][0]                    \n",
      "__________________________________________________________________________________________________\n",
      "conv2d_2 (Conv2D)               (None, 256, 256, 64) 36928       conv2d_1[0][0]                   \n",
      "__________________________________________________________________________________________________\n",
      "batch_normalization_1 (BatchNor (None, 256, 256, 64) 256         conv2d_2[0][0]                   \n",
      "__________________________________________________________________________________________________\n",
      "max_pooling2d_1 (MaxPooling2D)  (None, 128, 128, 64) 0           batch_normalization_1[0][0]      \n",
      "__________________________________________________________________________________________________\n",
      "conv2d_3 (Conv2D)               (None, 128, 128, 128 73856       max_pooling2d_1[0][0]            \n",
      "__________________________________________________________________________________________________\n",
      "conv2d_4 (Conv2D)               (None, 128, 128, 128 147584      conv2d_3[0][0]                   \n",
      "__________________________________________________________________________________________________\n",
      "batch_normalization_2 (BatchNor (None, 128, 128, 128 512         conv2d_4[0][0]                   \n",
      "__________________________________________________________________________________________________\n",
      "max_pooling2d_2 (MaxPooling2D)  (None, 64, 64, 128)  0           batch_normalization_2[0][0]      \n",
      "__________________________________________________________________________________________________\n",
      "conv2d_5 (Conv2D)               (None, 64, 64, 256)  295168      max_pooling2d_2[0][0]            \n",
      "__________________________________________________________________________________________________\n",
      "conv2d_6 (Conv2D)               (None, 64, 64, 256)  590080      conv2d_5[0][0]                   \n",
      "__________________________________________________________________________________________________\n",
      "batch_normalization_3 (BatchNor (None, 64, 64, 256)  1024        conv2d_6[0][0]                   \n",
      "__________________________________________________________________________________________________\n",
      "max_pooling2d_3 (MaxPooling2D)  (None, 32, 32, 256)  0           batch_normalization_3[0][0]      \n",
      "__________________________________________________________________________________________________\n",
      "conv2d_7 (Conv2D)               (None, 32, 32, 512)  1180160     max_pooling2d_3[0][0]            \n",
      "__________________________________________________________________________________________________\n",
      "conv2d_8 (Conv2D)               (None, 32, 32, 512)  2359808     conv2d_7[0][0]                   \n",
      "__________________________________________________________________________________________________\n",
      "batch_normalization_4 (BatchNor (None, 32, 32, 512)  2048        conv2d_8[0][0]                   \n",
      "__________________________________________________________________________________________________\n",
      "max_pooling2d_4 (MaxPooling2D)  (None, 16, 16, 512)  0           batch_normalization_4[0][0]      \n",
      "__________________________________________________________________________________________________\n",
      "conv2d_9 (Conv2D)               (None, 16, 16, 1024) 4719616     max_pooling2d_4[0][0]            \n",
      "__________________________________________________________________________________________________\n",
      "conv2d_10 (Conv2D)              (None, 16, 16, 1024) 9438208     conv2d_9[0][0]                   \n",
      "__________________________________________________________________________________________________\n",
      "up_sampling2d_1 (UpSampling2D)  (None, 32, 32, 1024) 0           conv2d_10[0][0]                  \n",
      "__________________________________________________________________________________________________\n",
      "conv2d_11 (Conv2D)              (None, 32, 32, 512)  2097664     up_sampling2d_1[0][0]            \n",
      "__________________________________________________________________________________________________\n",
      "concatenate_1 (Concatenate)     (None, 32, 32, 1024) 0           conv2d_11[0][0]                  \n",
      "                                                                 conv2d_8[0][0]                   \n",
      "__________________________________________________________________________________________________\n",
      "conv2d_12 (Conv2D)              (None, 32, 32, 512)  4719104     concatenate_1[0][0]              \n",
      "__________________________________________________________________________________________________\n",
      "conv2d_13 (Conv2D)              (None, 32, 32, 512)  2359808     conv2d_12[0][0]                  \n",
      "__________________________________________________________________________________________________\n",
      "up_sampling2d_2 (UpSampling2D)  (None, 64, 64, 512)  0           conv2d_13[0][0]                  \n",
      "__________________________________________________________________________________________________\n",
      "conv2d_14 (Conv2D)              (None, 64, 64, 256)  524544      up_sampling2d_2[0][0]            \n",
      "__________________________________________________________________________________________________\n",
      "concatenate_2 (Concatenate)     (None, 64, 64, 512)  0           conv2d_14[0][0]                  \n",
      "                                                                 conv2d_6[0][0]                   \n",
      "__________________________________________________________________________________________________\n",
      "conv2d_15 (Conv2D)              (None, 64, 64, 256)  1179904     concatenate_2[0][0]              \n",
      "__________________________________________________________________________________________________\n",
      "conv2d_16 (Conv2D)              (None, 64, 64, 256)  590080      conv2d_15[0][0]                  \n",
      "__________________________________________________________________________________________________\n",
      "up_sampling2d_3 (UpSampling2D)  (None, 128, 128, 256 0           conv2d_16[0][0]                  \n",
      "__________________________________________________________________________________________________\n",
      "conv2d_17 (Conv2D)              (None, 128, 128, 128 131200      up_sampling2d_3[0][0]            \n",
      "__________________________________________________________________________________________________\n",
      "concatenate_3 (Concatenate)     (None, 128, 128, 256 0           conv2d_17[0][0]                  \n",
      "                                                                 conv2d_4[0][0]                   \n",
      "__________________________________________________________________________________________________\n",
      "conv2d_18 (Conv2D)              (None, 128, 128, 128 295040      concatenate_3[0][0]              \n",
      "__________________________________________________________________________________________________\n",
      "conv2d_19 (Conv2D)              (None, 128, 128, 128 147584      conv2d_18[0][0]                  \n",
      "__________________________________________________________________________________________________\n",
      "up_sampling2d_4 (UpSampling2D)  (None, 256, 256, 128 0           conv2d_19[0][0]                  \n",
      "__________________________________________________________________________________________________\n",
      "conv2d_20 (Conv2D)              (None, 256, 256, 64) 32832       up_sampling2d_4[0][0]            \n",
      "__________________________________________________________________________________________________\n",
      "concatenate_4 (Concatenate)     (None, 256, 256, 128 0           conv2d_20[0][0]                  \n",
      "                                                                 conv2d_2[0][0]                   \n",
      "__________________________________________________________________________________________________\n",
      "conv2d_21 (Conv2D)              (None, 256, 256, 64) 73792       concatenate_4[0][0]              \n",
      "__________________________________________________________________________________________________\n",
      "conv2d_22 (Conv2D)              (None, 256, 256, 64) 36928       conv2d_21[0][0]                  \n",
      "__________________________________________________________________________________________________\n",
      "conv2d_23 (Conv2D)              (None, 256, 256, 3)  195         conv2d_22[0][0]                  \n",
      "==================================================================================================\n",
      "Total params: 31,034,563\n",
      "Trainable params: 31,032,643\n",
      "Non-trainable params: 1,920\n",
      "__________________________________________________________________________________________________\n"
     ]
    },
    {
     "name": "stdout",
     "output_type": "stream",
     "text": [
      "Train on 1000 samples, validate on 200 samples\n",
      "Epoch 1/25\n",
      "1000/1000 [==============================] - 31s 31ms/step - loss: 0.4413 - dice_coef: 0.5587 - val_loss: 0.3585 - val_dice_coef: 0.6415\n",
      "\n",
      "Epoch 00001: loss improved from inf to 0.44126, saving model to unet_membrane.hdf5\n",
      "Epoch 2/25\n",
      "1000/1000 [==============================] - 22s 22ms/step - loss: 0.3182 - dice_coef: 0.6818 - val_loss: 0.3040 - val_dice_coef: 0.6960\n",
      "\n",
      "Epoch 00002: loss improved from 0.44126 to 0.31821, saving model to unet_membrane.hdf5\n",
      "Epoch 3/25\n",
      "1000/1000 [==============================] - 22s 22ms/step - loss: 0.2788 - dice_coef: 0.7212 - val_loss: 0.2769 - val_dice_coef: 0.7231\n",
      "\n",
      "Epoch 00003: loss improved from 0.31821 to 0.27885, saving model to unet_membrane.hdf5\n",
      "Epoch 4/25\n",
      "1000/1000 [==============================] - 22s 22ms/step - loss: 0.2481 - dice_coef: 0.7519 - val_loss: 0.2511 - val_dice_coef: 0.7489\n",
      "\n",
      "Epoch 00004: loss improved from 0.27885 to 0.24806, saving model to unet_membrane.hdf5\n",
      "Epoch 5/25\n",
      "1000/1000 [==============================] - 22s 22ms/step - loss: 0.2260 - dice_coef: 0.7740 - val_loss: 0.2441 - val_dice_coef: 0.7559\n",
      "\n",
      "Epoch 00005: loss improved from 0.24806 to 0.22602, saving model to unet_membrane.hdf5\n",
      "Epoch 6/25\n",
      "1000/1000 [==============================] - 22s 22ms/step - loss: 0.2062 - dice_coef: 0.7938 - val_loss: 0.2479 - val_dice_coef: 0.7521\n",
      "\n",
      "Epoch 00006: loss improved from 0.22602 to 0.20618, saving model to unet_membrane.hdf5\n",
      "Epoch 7/25\n",
      "1000/1000 [==============================] - 22s 22ms/step - loss: 0.1995 - dice_coef: 0.8005 - val_loss: 0.2172 - val_dice_coef: 0.7828\n",
      "\n",
      "Epoch 00007: loss improved from 0.20618 to 0.19950, saving model to unet_membrane.hdf5\n",
      "Epoch 8/25\n",
      "1000/1000 [==============================] - 22s 22ms/step - loss: 0.1853 - dice_coef: 0.8147 - val_loss: 0.2339 - val_dice_coef: 0.7661\n",
      "\n",
      "Epoch 00008: loss improved from 0.19950 to 0.18531, saving model to unet_membrane.hdf5\n",
      "Epoch 9/25\n",
      "1000/1000 [==============================] - 22s 22ms/step - loss: 0.1723 - dice_coef: 0.8277 - val_loss: 0.1953 - val_dice_coef: 0.8047\n",
      "\n",
      "Epoch 00009: loss improved from 0.18531 to 0.17227, saving model to unet_membrane.hdf5\n",
      "Epoch 10/25\n",
      "1000/1000 [==============================] - 22s 22ms/step - loss: 0.1635 - dice_coef: 0.8365 - val_loss: 0.1872 - val_dice_coef: 0.8128\n",
      "\n",
      "Epoch 00010: loss improved from 0.17227 to 0.16349, saving model to unet_membrane.hdf5\n",
      "Epoch 11/25\n",
      "1000/1000 [==============================] - 22s 22ms/step - loss: 0.1557 - dice_coef: 0.8443 - val_loss: 0.1772 - val_dice_coef: 0.8228\n",
      "\n",
      "Epoch 00011: loss improved from 0.16349 to 0.15575, saving model to unet_membrane.hdf5\n",
      "Epoch 12/25\n",
      "1000/1000 [==============================] - 22s 22ms/step - loss: 0.1531 - dice_coef: 0.8469 - val_loss: 0.1850 - val_dice_coef: 0.8150\n",
      "\n",
      "Epoch 00012: loss improved from 0.15575 to 0.15310, saving model to unet_membrane.hdf5\n",
      "Epoch 13/25\n",
      "1000/1000 [==============================] - 22s 22ms/step - loss: 0.1504 - dice_coef: 0.8496 - val_loss: 0.1742 - val_dice_coef: 0.8258\n",
      "\n",
      "Epoch 00013: loss improved from 0.15310 to 0.15038, saving model to unet_membrane.hdf5\n",
      "Epoch 14/25\n",
      "1000/1000 [==============================] - 22s 22ms/step - loss: 0.1358 - dice_coef: 0.8642 - val_loss: 0.1741 - val_dice_coef: 0.8259\n",
      "\n",
      "Epoch 00014: loss improved from 0.15038 to 0.13584, saving model to unet_membrane.hdf5\n",
      "Epoch 15/25\n",
      "1000/1000 [==============================] - 22s 22ms/step - loss: 0.1364 - dice_coef: 0.8636 - val_loss: 0.1978 - val_dice_coef: 0.8022\n",
      "\n",
      "Epoch 00015: loss did not improve from 0.13584\n",
      "Epoch 16/25\n",
      "1000/1000 [==============================] - 22s 22ms/step - loss: 0.1351 - dice_coef: 0.8649 - val_loss: 0.1713 - val_dice_coef: 0.8287\n",
      "\n",
      "Epoch 00016: loss improved from 0.13584 to 0.13512, saving model to unet_membrane.hdf5\n",
      "Epoch 17/25\n",
      "1000/1000 [==============================] - 22s 22ms/step - loss: 0.1317 - dice_coef: 0.8683 - val_loss: 0.1694 - val_dice_coef: 0.8306\n",
      "\n",
      "Epoch 00017: loss improved from 0.13512 to 0.13170, saving model to unet_membrane.hdf5\n",
      "dict_keys(['val_loss', 'val_dice_coef', 'loss', 'dice_coef'])\n"
     ]
    },
    {
     "data": {
      "image/png": "[encoded data removed]",
      "text/plain": [
       "<Figure size 432x288 with 1 Axes>"
      ]
     },
     "metadata": {},
     "output_type": "display_data"
    },
    {
     "data": {
      "image/png": "[encoded data removed]",
      "text/plain": [
       "<Figure size 432x288 with 1 Axes>"
      ]
     },
     "metadata": {},
     "output_type": "display_data"
    }
   ],
   "source": [
    "callbacks = [\n",
    "    EarlyStopping(monitor='loss', min_delta=0.02, patience=4, verbose=0),\n",
    "    ModelCheckpoint('unet_membrane.hdf5', monitor='loss',verbose = 1, save_best_only = True),\n",
    "]\n",
    "\n",
    "# get data from the whole dataset\n",
    "#images = train_all_new(as_gray = True)\n",
    "#labels = label_all_new(as_gray = True)\n",
    "\n",
    "#x_train, x_valid, y_train, y_valid = train_test_split(images, labels, test_size=0.2, shuffle= True, random_state=1)\n",
    "#x_dev, x_test, y_dev, y_test = train_test_split(x_valid, y_valid, test_size=0.5, shuffle= True, random_state=1)\n",
    "\n",
    "x_train = shared_get_train(as_gray = True)\n",
    "y_train = shared_get_mask(as_gray = True)\n",
    "\n",
    "x_dev = shared_get_train_dev(as_gray = True)\n",
    "y_dev = shared_get_mask_dev(as_gray = True)\n",
    "\n",
    "x_test = shared_get_train_test(as_gray = True)\n",
    "y_test = shared_get_mask_test(as_gray = True)\n",
    "\n",
    "model = unet2d()\n",
    "\n",
    "history = model.fit(x_train, y_train, validation_data=(x_dev, y_dev), batch_size=16, epochs =25, callbacks = callbacks)\n",
    "\n",
    "print(history.history.keys())\n",
    "\n",
    "# summarize history for dice score\n",
    "plt.plot(history.history['dice_coef'])\n",
    "plt.plot(history.history['val_dice_coef'])\n",
    "plt.title('model dice coef')\n",
    "plt.ylabel('dice coef')\n",
    "plt.xlabel('epoch')\n",
    "plt.legend(['train', 'dev'], loc='upper left')\n",
    "plt.show()\n",
    "\n",
    "# summarize history for loss\n",
    "plt.plot(history.history['loss'])\n",
    "plt.plot(history.history['val_loss'])\n",
    "plt.title('model loss')\n",
    "plt.ylabel('loss')\n",
    "plt.xlabel('epoch')\n",
    "plt.legend(['train', 'dev'], loc='upper left')\n",
    "plt.show()"
   ]
  },
  {
   "cell_type": "markdown",
   "metadata": {},
   "source": []
  },
  {
   "cell_type": "code",
   "execution_count": null,
   "metadata": {},
   "outputs": [],
   "source": []
  },
  {
   "cell_type": "markdown",
   "metadata": {},
   "source": [
    "### Test Model and Save Predicted Results"
   ]
  },
  {
   "cell_type": "code",
   "execution_count": null,
   "metadata": {},
   "outputs": [],
   "source": [
    "#x_test_o = test_train_new(as_gray = True)\n",
    "#y_test_o = test_label_new(as_gray = True)\n",
    "\n",
    "#x_dev, x_test, y_dev, y_test = train_test_split(x_test_o, y_test_o, test_size=0.5, shuffle= True, random_state=45)\n",
    "\n",
    "model = unet2d()\n",
    "model.load_weights(\"unet_membrane.hdf5\")\n",
    "results = model.predict(x_test, verbose=1)\n",
    "test_score = soft_dice_coef(results, y_test)\n",
    "print(\"test score: \", test_score)\n",
    "save_result(\"data/test_result\", results)"
   ]
  },
  {
   "cell_type": "code",
   "execution_count": null,
   "metadata": {},
   "outputs": [],
   "source": []
  }
 ],
 "metadata": {
  "kernelspec": {
   "display_name": "Python 3",
   "language": "python",
   "name": "python3"
  },
  "language_info": {
   "codemirror_mode": {
    "name": "ipython",
    "version": 3
   },
   "file_extension": ".py",
   "mimetype": "text/x-python",
   "name": "python",
   "nbconvert_exporter": "python",
   "pygments_lexer": "ipython3",
   "version": "3.6.5"
  }
 },
 "nbformat": 4,
 "nbformat_minor": 2
}
