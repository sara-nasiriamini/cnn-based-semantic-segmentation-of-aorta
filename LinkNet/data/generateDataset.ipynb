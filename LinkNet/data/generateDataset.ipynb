{
 "cells": [
  {
   "cell_type": "code",
   "execution_count": 1,
   "metadata": {
    "collapsed": true
   },
   "outputs": [],
   "source": [
    "#notebook to generate list of training, test and validation data\n",
    "import numpy as np\n",
    "import random\n",
    "import matplotlib.pyplot as plt\n",
    "\n",
    "from skimage.io import imread\n",
    "from skimage import data_dir\n",
    "from skimage.transform import radon, rescale, iradon\n",
    "from scipy.signal import decimate\n",
    "from PIL import Image\n",
    "\n",
    "from os import listdir, getcwd, chdir\n",
    "from os.path import isfile, join, isdir"
   ]
  },
  {
   "cell_type": "code",
   "execution_count": 4,
   "metadata": {},
   "outputs": [],
   "source": [
    "localImgPath = '/Users/indrasen/Desktop/CS230 deep learning/project/dissectionData/images/'\n",
    "\n",
    "onlyfiles = [f for f in listdir(localImgPath) if isfile(join(localImgPath, f))]\n",
    "\n",
    "np.random.seed(1)\n",
    "filesPermuted = np.random.permutation(onlyfiles)"
   ]
  },
  {
   "cell_type": "code",
   "execution_count": 6,
   "metadata": {},
   "outputs": [],
   "source": [
    "nTrain = 1000\n",
    "nVal = 200\n",
    "nTest = 200\n",
    "\n",
    "filesTrain = filesPermuted[0:nTrain]\n",
    "filesVal = filesPermuted[nTrain:nTrain+nVal]\n",
    "filesTest = filesPermuted[nTrain+nVal:nTrain+nVal+nTest]"
   ]
  },
  {
   "cell_type": "code",
   "execution_count": 15,
   "metadata": {},
   "outputs": [],
   "source": [
    "fTrain = open('segnet_train.txt','w+')\n",
    "fTrain.writelines([\"%s\\n\" % item  for item in filesTrain])\n",
    "fTrain.close()"
   ]
  },
  {
   "cell_type": "code",
   "execution_count": 16,
   "metadata": {
    "collapsed": true
   },
   "outputs": [],
   "source": [
    "fVal = open('segnet_val.txt','w+')\n",
    "fVal.writelines([\"%s\\n\" % item  for item in filesVal])\n",
    "fVal.close()"
   ]
  },
  {
   "cell_type": "code",
   "execution_count": 17,
   "metadata": {
    "collapsed": true
   },
   "outputs": [],
   "source": [
    "fTest = open('segnet_test.txt','w+')\n",
    "fTest.writelines([\"%s\\n\" % item  for item in filesTest])\n",
    "fTest.close()"
   ]
  },
  {
   "cell_type": "code",
   "execution_count": null,
   "metadata": {
    "collapsed": true
   },
   "outputs": [],
   "source": []
  }
 ],
 "metadata": {
  "kernelspec": {
   "display_name": "Python 3",
   "language": "python",
   "name": "python3"
  },
  "language_info": {
   "codemirror_mode": {
    "name": "ipython",
    "version": 3
   },
   "file_extension": ".py",
   "mimetype": "text/x-python",
   "name": "python",
   "nbconvert_exporter": "python",
   "pygments_lexer": "ipython3",
   "version": "3.6.6"
  }
 },
 "nbformat": 4,
 "nbformat_minor": 2
}
